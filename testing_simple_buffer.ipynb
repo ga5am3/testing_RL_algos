{
 "cells": [
  {
   "cell_type": "code",
   "execution_count": null,
   "metadata": {},
   "outputs": [
    {
     "name": "stdout",
     "output_type": "stream",
     "text": [
      "state: [-0.98057216  0.19615878  0.1533995 ], action: [-1.8872153], reward: -8.673955136877085, next_state: [-0.9807428   0.19530383  0.0174363 ], terminated: False, truncated: False, info: {}\n",
      "state: [-0.9807428   0.19530383  0.0174363 ], action: [-1.8872153], reward: -8.676766671973006, next_state: [-0.9795617   0.201144   -0.11916812], terminated: False, truncated: False, info: {}\n",
      "state: [-0.9795617   0.201144   -0.11916812], action: [-1.8872153], reward: -8.643096562448367, next_state: [-0.97695607  0.2134405  -0.25139242], terminated: False, truncated: False, info: {}\n",
      "state: [-0.97695607  0.2134405  -0.25139242], action: [-1.8872153], reward: -8.574268354227934, next_state: [-0.9727896   0.23169038 -0.37439433], terminated: False, truncated: False, info: {}\n",
      "state: [-0.9727896   0.23169038 -0.37439433], action: [-1.8872153], reward: -8.472749677538495, next_state: [-0.9669021   0.25514767 -0.48370883], terminated: False, truncated: False, info: {}\n",
      "state: [-0.9669021   0.25514767 -0.48370883], action: [-1.8872153], reward: -8.342063151756443, next_state: [-0.95916194  0.28285748 -0.5754304 ], terminated: False, truncated: False, info: {}\n",
      "state: [-0.95916194  0.28285748 -0.5754304 ], action: [-1.8872153], reward: -8.186674885930884, next_state: [-0.9495211   0.31370303 -0.6463696 ], terminated: False, truncated: False, info: {}\n",
      "state: [-0.9495211   0.31370303 -0.6463696 ], action: [-1.8872153], reward: -8.011859800787903, next_state: [-0.9380632   0.34646413 -0.6941746 ], terminated: False, truncated: False, info: {}\n",
      "state: [-0.9380632   0.34646413 -0.6941746 ], action: [-1.8872153], reward: -7.82354204297558, next_state: [-0.92503464  0.37988278 -0.7174088 ], terminated: False, truncated: False, info: {}\n",
      "state: [-0.92503464  0.37988278 -0.7174088 ], action: [-1.8872153], reward: -7.628109683526791, next_state: [-0.9108537   0.41272938 -0.715579  ], terminated: False, truncated: False, info: {}\n",
      "state: [-0.9108537   0.41272938 -0.715579  ], action: [-1.8872153], reward: -7.432205786372108, next_state: [-0.896095   0.4438623 -0.6891142], terminated: False, truncated: False, info: {}\n",
      "state: [-0.896095   0.4438623 -0.6891142], action: [-1.8872153], reward: -7.242502147987028, next_state: [-0.8814516   0.47227436 -0.63929975], terminated: False, truncated: False, info: {}\n",
      "state: [-0.8814516   0.47227436 -0.63929975], action: [-1.8872153], reward: -7.065466210566045, next_state: [-0.86768097  0.49712142 -0.56817627], terminated: False, truncated: False, info: {}\n",
      "state: [-0.86768097  0.49712142 -0.56817627], action: [-1.8872153], reward: -6.907134278233444, next_state: [-0.8555423   0.5177329  -0.47841752], terminated: False, truncated: False, info: {}\n",
      "state: [-0.8555423   0.5177329  -0.47841752], action: [-1.8872153], reward: -6.772904104544721, next_state: [-0.84573305  0.5336063  -0.37320015], terminated: False, truncated: False, info: {}\n",
      "state: [-0.84573305  0.5336063  -0.37320015], action: [-1.8872153], reward: -6.6673570323326175, next_state: [-0.83883166  0.5443909  -0.25607774], terminated: False, truncated: False, info: {}\n",
      "state: [-0.83883166  0.5443909  -0.25607774], action: [-1.8872153], reward: -6.5941150912472475, next_state: [-0.83525157  0.549868   -0.13086684], terminated: False, truncated: False, info: {}\n",
      "state: [-0.83525157  0.549868   -0.13086684], action: [-1.8872153], reward: -6.5557334271135845, next_state: [-0.835209    0.5499326  -0.00154815], terminated: False, truncated: False, info: {}\n",
      "state: [-0.835209    0.5499326  -0.00154815], action: [-1.8872153], reward: -6.553624829004545, next_state: [-0.83870655  0.5445837   0.12781903], terminated: False, truncated: False, info: {}\n",
      "state: [-0.83870655  0.5445837   0.12781903], action: [-1.8872153], reward: -6.58801204492009, next_state: [-0.8455329   0.5339233   0.25317448], terminated: False, truncated: False, info: {}\n",
      "state: [-0.8455329   0.5339233   0.25317448], action: [-1.8872153], reward: -6.657905226618277, next_state: [-0.8552791  0.5181677  0.3705347], terminated: False, truncated: False, info: {}\n",
      "state: [-0.8552791  0.5181677  0.3705347], action: [-1.8872153], reward: -6.761105470302474, next_state: [-0.86737     0.4976638   0.47607815], terminated: False, truncated: False, info: {}\n",
      "state: [-0.86737     0.4976638   0.47607815], action: [-1.8872153], reward: -6.894239584058579, next_state: [-0.8811105  0.4729105  0.5662437], terminated: False, truncated: False, info: {}\n",
      "state: [-0.8811105  0.4729105  0.5662437], action: [-1.8872153], reward: -7.052834203856958, next_state: [-0.895742    0.4445742   0.63784426], terminated: False, truncated: False, info: {}\n",
      "state: [-0.895742    0.4445742   0.63784426], action: [-1.8872153], reward: -7.231437707132145, next_state: [-0.9105064   0.41349497  0.68819267], terminated: False, truncated: False, info: {}\n",
      "state: [-0.9105064   0.41349497  0.68819267], action: [-1.8872153], reward: -7.423795247991216, next_state: [-0.9247083  0.3806764  0.7152316], terminated: False, truncated: False, info: {}\n",
      "state: [-0.9247083  0.3806764  0.7152316], action: [-1.8872153], reward: -7.6230759242064625, next_state: [-0.9377699   0.3472573   0.71765655], terminated: False, truncated: False, info: {}\n",
      "state: [-0.9377699   0.3472573   0.71765655], action: [-1.8872153], reward: -7.822142965555743, next_state: [-0.94926876  0.31446588  0.6950173 ], terminated: False, truncated: False, info: {}\n",
      "state: [-0.94926876  0.31446588  0.6950173 ], action: [-1.8872153], reward: -8.013850076743944, next_state: [-0.9589544   0.28356025  0.6477844 ], terminated: False, truncated: False, info: {}\n",
      "state: [-0.9589544   0.28356025  0.6477844 ], action: [-1.8872153], reward: -8.191341937326978, next_state: [-0.9667397   0.25576228  0.5773723 ], terminated: False, truncated: False, info: {}\n",
      "state: [-0.9667397   0.25576228  0.5773723 ], action: [-1.8872153], reward: -8.34833587799059, next_state: [-0.97267     0.23219186  0.4861117 ], terminated: False, truncated: False, info: {}\n",
      "state: [-0.97267     0.23219186  0.4861117 ], action: [-1.8872153], reward: -8.479365113072763, next_state: [-0.9768756  0.2138084  0.3771733], terminated: False, truncated: False, info: {}\n",
      "state: [-0.9768756  0.2138084  0.3771733], action: [-1.8872153], reward: -8.579970442050808, next_state: [-0.9795166   0.20136327  0.2544473 ], terminated: False, truncated: False, info: {}\n",
      "state: [-0.9795166   0.20136327  0.2544473 ], action: [-1.8872153], reward: -8.646835034276512, next_state: [-0.9807305   0.1953655   0.12238748], terminated: False, truncated: False, info: {}\n",
      "state: [-0.9807305   0.1953655   0.12238748], action: [-1.8872153], reward: -8.677863768317982, next_state: [-0.98059183  0.19606033 -0.01417068], terminated: False, truncated: False, info: {}\n",
      "state: [-0.98059183  0.19606033 -0.01417068], action: [-1.8872153], reward: -8.672213269988086, next_state: [-0.9790917   0.20341936 -0.15020771], terminated: False, truncated: False, info: {}\n",
      "state: [-0.9790917   0.20341936 -0.15020771], action: [-1.8872153], reward: -8.630280864252471, next_state: [-0.9761401   0.21714167 -0.28072548], terminated: False, truncated: False, info: {}\n",
      "state: [-0.9761401   0.21714167 -0.28072548], action: [-1.8872153], reward: -8.5536604479802, next_state: [-0.97159106  0.23666596 -0.40095153], terminated: False, truncated: False, info: {}\n",
      "state: [-0.97159106  0.23666596 -0.40095153], action: [-1.8872153], reward: -8.44507149058888, next_state: [-0.96528614  0.26119465 -0.50653434], terminated: False, truncated: False, info: {}\n",
      "state: [-0.96528614  0.26119465 -0.50653434], action: [-1.8872153], reward: -8.30826474134801, next_state: [-0.95710814  0.28973088 -0.5937206 ], terminated: False, truncated: False, info: {}\n",
      "state: [-0.95710814  0.28973088 -0.5937206 ], action: [-1.8872153], reward: -8.147905517775724, next_state: [-0.9470356   0.32112852 -0.6595048 ], terminated: False, truncated: False, info: {}\n",
      "state: [-0.9470356   0.32112852 -0.6595048 ], action: [-1.8872153], reward: -7.969433440591127, next_state: [-0.9351876  0.3541527 -0.7017407], terminated: False, truncated: False, info: {}\n",
      "state: [-0.9351876  0.3541527 -0.7017407], action: [-1.8872153], reward: -7.778896917962192, next_state: [-0.92185026  0.38754624 -0.7192084 ], terminated: False, truncated: False, info: {}\n",
      "state: [-0.92185026  0.38754624 -0.7192084 ], action: [-1.8872153], reward: -7.582762073756896, next_state: [-0.9074802   0.42009488 -0.711631  ], terminated: False, truncated: False, info: {}\n",
      "state: [-0.9074802   0.42009488 -0.711631  ], action: [-1.8872153], reward: -7.387699099487621, next_state: [-0.8926833   0.45068452 -0.67964214], terminated: False, truncated: False, info: {}\n",
      "state: [-0.8926833   0.45068452 -0.67964214], action: [-1.8872153], reward: -7.20035335817441, next_state: [-0.87817276  0.4783436  -0.62471104], terminated: False, truncated: False, info: {}\n",
      "state: [-0.87817276  0.4783436  -0.62471104], action: [-1.8872153], reward: -7.0271125400619106, next_state: [-0.8647122   0.5022677  -0.54903567], terminated: False, truncated: False, info: {}\n",
      "state: [-0.8647122   0.5022677  -0.54903567], action: [-1.8872153], reward: -6.873883247100705, next_state: [-0.8530519   0.5218261  -0.45541713], terminated: False, truncated: False, info: {}\n",
      "state: [-0.8530519   0.5218261  -0.45541713], action: [-1.8872153], reward: -6.745889641570639, next_state: [-0.8438668   0.5365527  -0.34712985], terminated: False, truncated: False, info: {}\n",
      "state: [-0.8438668   0.5365527  -0.34712985], action: [-1.8872153], reward: -6.647503354372822, next_state: [-0.8377009   0.5461292  -0.22779761], terminated: False, truncated: False, info: {}\n",
      "state: [-0.8377009   0.5461292  -0.22779761], action: [-1.8872153], reward: -6.582108856271582, next_state: [-0.8349245   0.5503645  -0.10128297], terminated: False, truncated: False, info: {}\n",
      "state: [-0.8349245   0.5503645  -0.10128297], action: [-1.8872153], reward: -6.55200365539577, next_state: [-0.8357054  0.549178   0.0284081], terminated: False, truncated: False, info: {}\n",
      "state: [-0.8357054  0.549178   0.0284081], action: [-1.8872153], reward: -6.558329591584417, next_state: [-0.83999634  0.54259205  0.15720929], terminated: False, truncated: False, info: {}\n",
      "state: [-0.83999634  0.54259205  0.15720929], action: [-1.8872153], reward: -6.601031070167258, next_state: [-0.8475385   0.53073394  0.28107104], terminated: False, truncated: False, info: {}\n",
      "state: [-0.8475385   0.53073394  0.28107104], action: [-1.8872153], reward: -6.678838279909491, next_state: [-0.8578812   0.51384807  0.3960392 ], terminated: False, truncated: False, info: {}\n",
      "state: [-0.8578812   0.51384807  0.3960392 ], action: [-1.8872153], reward: -6.789277335009348, next_state: [-0.87041724  0.4923148   0.49834293], terminated: False, truncated: False, info: {}\n",
      "state: [-0.87041724  0.4923148   0.49834293], action: [-1.8872153], reward: -6.928713326730329, next_state: [-0.8844313   0.4666704   0.58449674], terminated: False, truncated: False, info: {}\n",
      "state: [-0.8844313   0.4666704   0.58449674], action: [-1.8872153], reward: -7.092434761211542, next_state: [-0.8991594   0.43762127  0.65141726], terminated: False, truncated: False, info: {}\n",
      "state: [-0.8991594   0.43762127  0.65141726], action: [-1.8872153], reward: -7.274787427437792, next_state: [-0.91385233  0.40604672  0.69655097], terminated: False, truncated: False, info: {}\n",
      "state: [-0.91385233  0.40604672  0.69655097], action: [-1.8872153], reward: -7.469361813941016, next_state: [-0.9278375   0.37298465  0.7180037 ], terminated: False, truncated: False, info: {}\n",
      "state: [-0.9278375   0.37298465  0.7180037 ], action: [-1.8872153], reward: -7.6692313029509265, next_state: [-0.94057024  0.3395992   0.71465987], terminated: False, truncated: False, info: {}\n",
      "state: [-0.94057024  0.3395992   0.71465987], action: [-1.8872153], reward: -7.867230125002254, next_state: [-0.95166725  0.30713105  0.68627703], terminated: False, truncated: False, info: {}\n",
      "state: [-0.95166725  0.30713105  0.68627703], action: [-1.8872153], reward: -8.056252719175916, next_state: [-0.96091723  0.2768359   0.633543  ], terminated: False, truncated: False, info: {}\n",
      "state: [-0.96091723  0.2768359   0.633543  ], action: [-1.8872153], reward: -8.22955187620505, next_state: [-0.9682671   0.2499178   0.55808765], terminated: False, truncated: False, info: {}\n",
      "state: [-0.9682671   0.2499178   0.55808765], action: [-1.8872153], reward: -8.381013095848951, next_state: [-0.97378635  0.22746454  0.4624437 ], terminated: False, truncated: False, info: {}\n",
      "state: [-0.97378635  0.22746454  0.4624437 ], action: [-1.8872153], reward: -8.505386827681837, next_state: [-0.97761726  0.21039128  0.34995982], terminated: False, truncated: False, info: {}\n",
      "state: [-0.97761726  0.21039128  0.34995982], action: [-1.8872153], reward: -8.598467258250947, next_state: [-0.97991896  0.19939613  0.22467099], terminated: False, truncated: False, info: {}\n",
      "state: [-0.97991896  0.19939613  0.22467099], action: [-1.8872153], reward: -8.657213976981051, next_state: [-0.9808174   0.1949288   0.09113581], terminated: False, truncated: False, info: {}\n",
      "state: [-0.9808174   0.1949288   0.09113581], action: [-1.8872153], reward: -8.679819292573088, next_state: [-0.9803689   0.1971719  -0.04574989], terminated: False, truncated: False, info: {}\n",
      "state: [-0.9803689   0.1971719  -0.04574989], action: [-1.8872153], reward: -8.665728049594952, next_state: [-0.9785449   0.20603375 -0.18095325], terminated: False, truncated: False, info: {}\n",
      "state: [-0.9785449   0.20603375 -0.18095325], action: [-1.8872153], reward: -8.615618292753693, next_state: [-0.97523934  0.22115196 -0.30951023], terminated: False, truncated: False, info: {}\n",
      "state: [-0.97523934  0.22115196 -0.30951023], action: [-1.8872153], reward: -8.531350484324035, next_state: [-0.9702991   0.24190816 -0.42672855], terminated: False, truncated: False, info: {}\n",
      "state: [-0.9702991   0.24190816 -0.42672855], action: [-1.8872153], reward: -8.415890922116969, next_state: [-0.96357036  0.2674551  -0.52837974], terminated: False, truncated: False, info: {}\n",
      "state: [-0.96357036  0.2674551  -0.52837974], action: [-1.8872153], reward: -8.273212292770912, next_state: [-0.95495313  0.2967566  -0.6108707 ], terminated: False, truncated: False, info: {}\n",
      "state: [-0.95495313  0.2967566  -0.6108707 ], action: [-1.8872153], reward: -8.108171681589416, next_state: [-0.9444551  0.3286405 -0.6713855], terminated: False, truncated: False, info: {}\n",
      "state: [-0.9444551  0.3286405 -0.6713855], action: [-1.8872153], reward: -7.926364621789851, next_state: [-0.93223214  0.36186072 -0.7079874 ], terminated: False, truncated: False, info: {}\n",
      "state: [-0.93223214  0.36186072 -0.7079874 ], action: [-1.8872153], reward: -7.733953624150434, next_state: [-0.9186104   0.3951644  -0.71967417], terminated: False, truncated: False, info: {}\n",
      "state: [-0.9186104   0.3951644  -0.71967417], action: [-1.8872153], reward: -7.53747148845788, next_state: [-0.90408355  0.42735577 -0.70638317], terminated: False, truncated: False, info: {}\n",
      "state: [-0.90408355  0.42735577 -0.70638317], action: [-1.8872153], reward: -7.343603329578465, next_state: [-0.8892866   0.45735037 -0.66894865], terminated: False, truncated: False, info: {}\n",
      "state: [-0.8892866   0.45735037 -0.66894865], action: [-1.8872153], reward: -7.158955653921503, next_state: [-0.87494975  0.48421374 -0.60901815], terminated: False, truncated: False, info: {}\n",
      "state: [-0.87494975  0.48421374 -0.60901815], action: [-1.8872153], reward: -6.989824480526893, next_state: [-0.86183923  0.5071815  -0.52894014], terminated: False, truncated: False, info: {}\n",
      "state: [-0.86183923  0.5071815  -0.52894014], action: [-1.8872153], reward: -6.84197597674853, next_state: [-0.8506935   0.525662   -0.43163627], terminated: False, truncated: False, info: {}\n",
      "state: [-0.8506935   0.525662   -0.43163627], action: [-1.8872153], reward: -6.720451663169781, next_state: [-0.84216166  0.5392251  -0.32047203], terminated: False, truncated: False, info: {}\n",
      "state: [-0.84216166  0.5392251  -0.32047203], action: [-1.8872153], reward: -6.629406312851599, next_state: [-0.83675104  0.54758346 -0.19913548], terminated: False, truncated: False, info: {}\n",
      "state: [-0.83675104  0.54758346 -0.19913548], action: [-1.8872153], reward: -6.571981554740159, next_state: [-0.83478725  0.55057263 -0.07153016], terminated: False, truncated: False, info: {}\n",
      "state: [-0.83478725  0.55057263 -0.07153016], action: [-1.8872153], reward: -6.550213629535699, next_state: [-0.8363891   0.5481362   0.05831701], terminated: False, truncated: False, info: {}\n",
      "state: [-0.8363891   0.5481362   0.05831701], action: [-1.8872153], reward: -6.5649712189858835, next_state: [-0.84145963  0.54032     0.18633685], terminated: False, truncated: False, info: {}\n",
      "state: [-0.84145963  0.54032     0.18633685], action: [-1.8872153], reward: -6.615919486490323, next_state: [-0.8496935   0.52727693  0.30849454], terminated: False, truncated: False, info: {}\n",
      "state: [-0.8496935   0.52727693  0.30849454], action: [-1.8872153], reward: -6.7015091704533205, next_state: [-0.8606003   0.509281    0.42086995], terminated: False, truncated: False, info: {}\n",
      "state: [-0.8606003   0.509281    0.42086995], action: [-1.8872153], reward: -6.818993652165613, next_state: [-0.87354314  0.48674676  0.5197484 ], terminated: False, truncated: False, info: {}\n",
      "state: [-0.87354314  0.48674676  0.5197484 ], action: [-1.8872153], reward: -6.964480754493186, next_state: [-0.88779     0.46024877  0.6017262 ], terminated: False, truncated: False, info: {}\n",
      "state: [-0.88779     0.46024877  0.6017262 ], action: [-1.8872153], reward: -7.1330279439509106, next_state: [-0.90257454  0.43053356  0.66383046], terminated: False, truncated: False, info: {}\n",
      "state: [-0.90257454  0.43053356  0.66383046], action: [-1.8872153], reward: -7.318788384840798, next_state: [-0.9171601   0.39851892  0.7036483 ], terminated: False, truncated: False, info: {}\n",
      "state: [-0.9171601   0.39851892  0.7036483 ], action: [-1.8872153], reward: -7.515210596350411, next_state: [-0.9308995   0.36527544  0.71945524], terminated: False, truncated: False, info: {}\n",
      "state: [-0.9308995   0.36527544  0.71945524], action: [-1.8872153], reward: -7.715287084938223, next_state: [-0.94328296  0.33198977  0.71032953], terminated: False, truncated: False, info: {}\n",
      "state: [-0.94328296  0.33198977  0.71032953], action: [-1.8872153], reward: -7.911839077058473, next_state: [-0.9539669   0.29991183  0.6762396 ], terminated: False, truncated: False, info: {}\n",
      "state: [-0.9539669   0.29991183  0.6762396 ], action: [-1.8872153], reward: -8.097817676380332, next_state: [-0.96277857  0.2702914   0.61809117], terminated: False, truncated: False, info: {}\n",
      "state: [-0.96277857  0.2702914   0.61809117], action: [-1.8872153], reward: -8.26659843325225, next_state: [-0.9696969   0.24431118  0.5377274 ], terminated: False, truncated: False, info: {}\n",
      "state: [-0.9696969   0.24431118  0.5377274 ], action: [-1.8872153], reward: -8.412247397763917, next_state: [-0.974813    0.22302386  0.4378785 ], terminated: False, truncated: False, info: {}\n",
      "state: [-0.974813    0.22302386  0.4378785 ], action: [-1.8872153], reward: -8.529741764024166, next_state: [-0.97827786  0.20729801  0.3220641 ], terminated: False, truncated: False, info: {}\n",
      "state: [-0.97827786  0.20729801  0.3220641 ], action: [-1.8872153], reward: -8.615135553844533, next_state: [-0.9802471   0.1977768   0.19445533], terminated: False, truncated: False, info: {}\n",
      "state: [-0.9802471   0.1977768   0.19445533], action: [-1.8872153], reward: -8.665668321446464, next_state: [-0.9808331   0.1948496   0.05970563], terminated: False, truncated: False, info: {}\n",
      "state: [-0.9808331   0.1948496   0.05970563], action: [-1.8872153], reward: -8.679820821863022, next_state: [-0.98007333  0.19863608 -0.07723946], terminated: False, truncated: False, info: {}\n",
      "state: [-0.98007333  0.19863608 -0.07723946], action: [-1.8872153], reward: -8.657325058502625, next_state: [-0.9779196   0.20898147 -0.21134469], terminated: False, truncated: False, info: {}\n",
      "state: [-0.9779196   0.20898147 -0.21134469], action: [-1.8872153], reward: -8.599137074926764, next_state: [-0.9742518   0.22546263 -0.33769086], terminated: False, truncated: False, info: {}\n",
      "state: [-0.9742518   0.22546263 -0.33769086], action: [-1.8872153], reward: -8.507379819597292, next_state: [-0.968912    0.24740557 -0.4516762 ], terminated: False, truncated: False, info: {}\n",
      "state: [-0.968912    0.24740557 -0.4516762 ], action: [-1.8872153], reward: -8.385261136632106, next_state: [-0.9617538  0.2739155 -0.5492043], terminated: False, truncated: False, info: {}\n",
      "state: [-0.9617538  0.2739155 -0.5492043], action: [-1.8872153], reward: -8.236969178465102, next_state: [-0.95269763  0.3039198  -0.62684995], terminated: False, truncated: False, info: {}\n",
      "state: [-0.95269763  0.3039198  -0.62684995], action: [-1.8872153], reward: -8.067545055010202, next_state: [-0.94178224  0.33622345 -0.6819924 ], terminated: False, truncated: False, info: {}\n",
      "state: [-0.94178224  0.33622345 -0.6819924 ], action: [-1.8872153], reward: -7.882731105653752, next_state: [-0.9292017   0.3695729  -0.71290714], terminated: False, truncated: False, info: {}\n",
      "state: [-0.9292017   0.3695729  -0.71290714], action: [-1.8872153], reward: -7.688793482424237, next_state: [-0.9153219  0.402723  -0.7188097], terminated: False, truncated: False, info: {}\n",
      "state: [-0.9153219  0.402723  -0.7188097], action: [-1.8872153], reward: -7.492320049940691, next_state: [-0.90067214  0.43449935 -0.6998497 ], terminated: False, truncated: False, info: {}\n",
      "state: [-0.90067214  0.43449935 -0.6998497 ], action: [-1.8872153], reward: -7.299998531446623, next_state: [-0.88591415  0.46384925 -0.6570575 ], terminated: False, truncated: False, info: {}\n",
      "state: [-0.88591415  0.46384925 -0.6570575 ], action: [-1.8872153], reward: -7.118384204418422, next_state: [-0.87179196  0.4898763  -0.59225285], terminated: False, truncated: False, info: {}\n",
      "state: [-0.87179196  0.4898763  -0.59225285], action: [-1.8872153], reward: -6.953669715122148, next_state: [-0.8590711   0.5118563  -0.50792795], terminated: False, truncated: False, info: {}\n",
      "state: [-0.8590711   0.5118563  -0.50792795], action: [-1.8872153], reward: -6.811470416773005, next_state: [-0.8484745   0.52923626 -0.407118  ], terminated: False, truncated: False, info: {}\n",
      "state: [-0.8484745   0.52923626 -0.407118  ], action: [-1.8872153], reward: -6.696636567441965, next_state: [-0.840623   0.5416206 -0.2932731], terminated: False, truncated: False, info: {}\n",
      "state: [-0.840623   0.5416206 -0.2932731], action: [-1.8872153], reward: -6.6130993776202915, next_state: [-0.8359851   0.5487521  -0.17013992], terminated: False, truncated: False, info: {}\n",
      "state: [-0.8359851   0.5487521  -0.17013992], action: [-1.8872153], reward: -6.563752754408915, next_state: [-0.8348403   0.5504922  -0.04165812], terminated: False, truncated: False, info: {}\n",
      "state: [-0.8348403   0.5504922  -0.04165812], action: [-1.8872153], reward: -6.550368387070977, next_state: [-0.8372579   0.5468082   0.08812875], terminated: False, truncated: False, info: {}\n",
      "state: [-0.8372579   0.5468082   0.08812875], action: [-1.8872153], reward: -6.5735398952615105, next_state: [-0.8430917   0.53776985  0.2151526 ], terminated: False, truncated: False, info: {}\n",
      "state: [-0.8430917   0.53776985  0.2151526 ], action: [-1.8872153], reward: -6.632652608866559, next_state: [-0.85199106  0.52355635  0.3353977 ], terminated: False, truncated: False, info: {}\n",
      "state: [-0.85199106  0.52355635  0.3353977 ], action: [-1.8872153], reward: -6.7258786929276155, next_state: [-0.86342794  0.50447226  0.44498265], terminated: False, truncated: False, info: {}\n",
      "state: [-0.86342794  0.50447226  0.44498265], action: [-1.8872153], reward: -6.850201508498048, next_state: [-0.8767384   0.4809675   0.54025453], terminated: False, truncated: False, info: {}\n",
      "state: [-0.8767384   0.4809675   0.54025453], action: [-1.8872153], reward: -7.001476632620935, next_state: [-0.8911771   0.45365554  0.61789787], terminated: False, truncated: False, info: {}\n",
      "state: [-0.8911771   0.45365554  0.61789787], action: [-1.8872153], reward: -7.174538235446311, next_state: [-0.9059788   0.4233231   0.67505723], terminated: False, truncated: False, info: {}\n",
      "state: [-0.9059788   0.4233231   0.67505723], action: [-1.8872153], reward: -7.363357478461696, next_state: [-0.9204224   0.39092538  0.70946723], terminated: False, truncated: False, info: {}\n",
      "state: [-0.9204224   0.39092538  0.70946723], action: [-1.8872153], reward: -7.56125417017603, next_state: [-0.93388873  0.3575637   0.71957904], terminated: False, truncated: False, info: {}\n",
      "state: [-0.93388873  0.3575637   0.71957904], action: [-1.8872153], reward: -7.7611551467752005, next_state: [-0.94590473  0.32444444  0.70466954], terminated: False, truncated: False, info: {}\n",
      "state: [-0.94590473  0.32444444  0.70466954], action: [-1.8872153], reward: -7.955884722915325, next_state: [-0.95616657  0.29282337  0.66492057], terminated: False, truncated: False, info: {}\n",
      "state: [-0.95616657  0.29282337  0.66492057], action: [-1.8872153], reward: -8.138466404464431, next_state: [-0.96453893  0.26394072  0.6014558 ], terminated: False, truncated: False, info: {}\n",
      "state: [-0.96453893  0.26394072  0.6014558 ], action: [-1.8872153], reward: -8.30241270251952, next_state: [-0.9710308   0.23895456  0.51632905], terminated: False, truncated: False, info: {}\n",
      "state: [-0.9710308   0.23895456  0.51632905], action: [-1.8872153], reward: -8.441981975148726, next_state: [-0.9757519   0.21887946  0.41246268], terminated: False, truncated: False, info: {}\n",
      "state: [-0.9757519   0.21887946  0.41246268], action: [-1.8872153], reward: -8.552386967313211, next_state: [-0.9788592   0.20453529  0.29354   ], terminated: False, truncated: False, info: {}\n",
      "state: [-0.9788592   0.20453529  0.29354   ], action: [-1.8872153], reward: -8.629947290992014, next_state: [-0.98050207  0.19650877  0.16385919], terminated: False, truncated: False, info: {}\n",
      "state: [-0.98050207  0.19650877  0.16385919], action: [-1.8872153], reward: -8.672185389016953, next_state: [-0.98077774  0.1951281   0.02815847], terminated: False, truncated: False, info: {}\n",
      "state: [-0.98077774  0.1951281   0.02815847], action: [-1.8872153], reward: -8.67787096017626, next_state: [-0.97970396  0.20044973 -0.10857774], terminated: False, truncated: False, info: {}\n",
      "state: [-0.97970396  0.20044973 -0.10857774], action: [-1.8872153], reward: -8.647021690405177, next_state: [-0.9772141   0.21225609 -0.24132273], terminated: False, truncated: False, info: {}\n",
      "state: [-0.9772141   0.21225609 -0.24132273], action: [-1.8872153], reward: -8.580868566451286, next_state: [-0.9731754   0.23006427 -0.36521295], terminated: False, truncated: False, info: {}\n",
      "state: [-0.9731754   0.23006427 -0.36521295], action: [-1.8872153], reward: -8.481792658301382, next_state: [-0.967428    0.25314626 -0.47574702], terminated: False, truncated: False, info: {}\n",
      "state: [-0.967428    0.25314626 -0.47574702], action: [-1.8872153], reward: -8.353237803520237, next_state: [-0.9598359   0.28056198 -0.5689696 ], terminated: False, truncated: False, info: {}\n",
      "state: [-0.9598359   0.28056198 -0.5689696 ], action: [-1.8872153], reward: -8.199600864984559, next_state: [-0.9503427   0.31120533 -0.6416304 ], terminated: False, truncated: False, info: {}\n",
      "state: [-0.9503427   0.31120533 -0.6416304 ], action: [-1.8872153], reward: -8.026098926212791, next_state: [-0.9390202  0.3438619 -0.6913087], terminated: False, truncated: False, info: {}\n",
      "state: [-0.9390202  0.3438619 -0.6913087], action: [-1.8872153], reward: -7.838611707593735, next_state: [-0.92610157  0.37727422 -0.71649456], terminated: False, truncated: False, info: {}\n",
      "state: [-0.92610157  0.37727422 -0.71649456], action: [-1.8872153], reward: -7.6434982492990775, next_state: [-0.9119919   0.41020817 -0.71662116], terminated: False, truncated: False, info: {}\n",
      "state: [-0.9119919   0.41020817 -0.71662116], action: [-1.8872153], reward: -7.447389659368937, next_state: [-0.89725465  0.4415134  -0.69204736], terminated: False, truncated: False, info: {}\n",
      "state: [-0.89725465  0.4415134  -0.69204736], action: [-1.8872153], reward: -7.256963878557138, next_state: [-0.8825754   0.4701709  -0.64399457], terminated: False, truncated: False, info: {}\n",
      "state: [-0.8825754   0.4701709  -0.64399457], action: [-1.8872153], reward: -7.07871267328385, next_state: [-0.8687088  0.4953232 -0.5744487], terminated: False, truncated: False, info: {}\n",
      "state: [-0.8687088  0.4953232 -0.5744487], action: [-1.8872153], reward: -6.918713868352929, next_state: [-0.85641617  0.51628613 -0.4860386 ], terminated: False, truncated: False, info: {}\n",
      "state: [-0.85641617  0.51628613 -0.4860386 ], action: [-1.8872153], reward: -6.782421999655531, next_state: [-0.84640193  0.53254455 -0.38190624], terminated: False, truncated: False, info: {}\n",
      "state: [-0.84640193  0.53254455 -0.38190624], action: [-1.8872153], reward: -6.674487879758873, next_state: [-0.83925587  0.5437367  -0.26558012], terminated: False, truncated: False, info: {}\n",
      "state: [-0.83925587  0.5437367  -0.26558012], action: [-1.8872153], reward: -6.598612887688933, next_state: [-0.8354056   0.54963404 -0.1408599 ], terminated: False, truncated: False, info: {}\n",
      "state: [-0.8354056   0.54963404 -0.1408599 ], action: [-1.8872153], reward: -6.557438718775973, next_state: [-0.8350834   0.55012333 -0.01171668], terminated: False, truncated: False, info: {}\n",
      "state: [-0.8350834   0.55012333 -0.01171668], action: [-1.8872153], reward: -6.552469560494675, next_state: [-0.838309    0.54519546  0.11779353], terminated: False, truncated: False, info: {}\n",
      "state: [-0.838309    0.54519546  0.11779353], action: [-1.8872153], reward: -6.584022367341445, next_state: [-0.8448873   0.5349443   0.24360782], terminated: False, truncated: False, info: {}\n",
      "state: [-0.8448873   0.5349443   0.24360782], action: [-1.8872153], reward: -6.651202360127081, next_state: [-0.85442394  0.51957643  0.36173376], terminated: False, truncated: False, info: {}\n",
      "state: [-0.85442394  0.51957643  0.36173376], action: [-1.8872153], reward: -6.75190439183763, next_state: [-0.86635536  0.49942803  0.4683338 ], terminated: False, truncated: False, info: {}\n",
      "state: [-0.86635536  0.49942803  0.4683338 ], action: [-1.8872153], reward: -6.882845005458557, next_state: [-0.87999374  0.4749853   0.55982256], terminated: False, truncated: False, info: {}\n",
      "state: [-0.87999374  0.4749853   0.55982256], action: [-1.8872153], reward: -7.039633151578461, next_state: [-0.89458334  0.4469012   0.6329793 ], terminated: False, truncated: False, info: {}\n",
      "state: [-0.89458334  0.4469012   0.6329793 ], action: [-1.8872153], reward: -7.216888109329686, next_state: [-0.90936357  0.4160023   0.68507284], terminated: False, truncated: False, info: {}\n",
      "state: [-0.90936357  0.4160023   0.68507284], action: [-1.8872153], reward: -7.408410304733153, next_state: [-0.9236321   0.38328022  0.7139923 ], terminated: False, truncated: False, info: {}\n",
      "state: [-0.9236321   0.38328022  0.7139923 ], action: [-1.8872153], reward: -7.607404619742587, next_state: [-0.93680024  0.34986463  0.7183702 ], terminated: False, truncated: False, info: {}\n",
      "state: [-0.93680024  0.34986463  0.7183702 ], action: [-1.8872153], reward: -7.806747734377408, next_state: [-0.9484326   0.31697878  0.6976864 ], terminated: False, truncated: False, info: {}\n",
      "state: [-0.9484326   0.31697878  0.6976864 ], action: [-1.8872153], reward: -7.999283173912254, next_state: [-0.9582652   0.2858807   0.65233815], terminated: False, truncated: False, info: {}\n",
      "state: [-0.9582652   0.2858807   0.65233815], action: [-1.8872153], reward: -8.178122327722043, next_state: [-0.9661989  0.2577976  0.5836664], terminated: False, truncated: False, info: {}\n",
      "state: [-0.9661989  0.2577976  0.5836664], action: [-1.8872153], reward: -8.336928372777683, next_state: [-0.97227037  0.23385957  0.4939323 ], terminated: False, truncated: False, info: {}\n",
      "state: [-0.97227037  0.23385957  0.4939323 ], action: [-1.8872153], reward: -8.470163082172053, next_state: [-0.9766052   0.21504042  0.3862447 ], terminated: False, truncated: False, info: {}\n",
      "state: [-0.9766052   0.21504042  0.3862447 ], action: [-1.8872153], reward: -8.573282850135346, next_state: [-0.979363    0.20210919  0.2644427 ], terminated: False, truncated: False, info: {}\n",
      "state: [-0.979363    0.20210919  0.2644427 ], action: [-1.8872153], reward: -8.642877952725177, next_state: [-0.9806848   0.19559483  0.13294232], terminated: False, truncated: False, info: {}\n",
      "state: [-0.9806848   0.19559483  0.13294232], action: [-1.8872153], reward: -8.676756046368123, next_state: [-0.9806511   0.19576369 -0.00344385], terminated: False, truncated: False, info: {}\n",
      "state: [-0.9806511   0.19576369 -0.00344385], action: [-1.8872153], reward: -8.67397577674281, next_state: [-0.9792597   0.20260887 -0.13970336], terminated: False, truncated: False, info: {}\n",
      "state: [-0.9792597   0.20260887 -0.13970336], action: [-1.8872153], reward: -8.634838640816701, next_state: [-0.9764264   0.21585049 -0.270829  ], terminated: False, truncated: False, info: {}\n",
      "state: [-0.9764264   0.21585049 -0.270829  ], action: [-1.8872153], reward: -8.560847192538274, next_state: [-0.9720082  0.2349469 -0.3920234], terminated: False, truncated: False, info: {}\n",
      "state: [-0.9720082  0.2349469 -0.3920234], action: [-1.8872153], reward: -8.454635979669636, next_state: [-0.9658457   0.2591178  -0.49889553], terminated: False, truncated: False, info: {}\n",
      "state: [-0.9658457   0.2591178  -0.49889553], action: [-1.8872153], reward: -8.319879008592737, next_state: [-0.95781654  0.28738034 -0.58763945], terminated: False, truncated: False, info: {}\n",
      "state: [-0.95781654  0.28738034 -0.58763945], action: [-1.8872153], reward: -8.161174808144628, next_state: [-0.9478899   0.31859797 -0.6551865 ], terminated: False, truncated: False, info: {}\n",
      "state: [-0.9478899   0.31859797 -0.6551865 ], action: [-1.8872153], reward: -7.983908071958945, next_state: [-0.9361727   0.35154042 -0.6993203 ], terminated: False, truncated: False, info: {}\n",
      "state: [-0.9361727   0.35154042 -0.6993203 ], action: [-1.8872153], reward: -7.794086159480983, next_state: [-0.9229375   0.38494977 -0.71874726], terminated: False, truncated: False, info: {}\n",
      "state: [-0.9229375   0.38494977 -0.71874726], action: [-1.8872153], reward: -7.598149967837411, next_state: [-0.9086281   0.41760626 -0.71311724], terminated: False, truncated: False, info: {}\n",
      "state: [-0.9086281   0.41760626 -0.71311724], action: [-1.8872153], reward: -7.402761843503203, next_state: [-0.89383996  0.44838616 -0.68299484], terminated: False, truncated: False, info: {}\n",
      "state: [-0.89383996  0.44838616 -0.68299484], action: [-1.8872153], reward: -7.2145775145863515, next_state: [-0.8792798   0.47630566 -0.6297875 ], terminated: False, truncated: False, info: {}\n",
      "state: [-0.8792798   0.47630566 -0.6297875 ], action: [-1.8872153], reward: -7.040013083714795, next_state: [-0.8657094   0.50054693 -0.5556406 ], terminated: False, truncated: False, info: {}\n",
      "state: [-0.8657094   0.50054693 -0.5556406 ], action: [-1.8872153], reward: -6.885020391477589, next_state: [-0.8538827   0.5204655  -0.46331266], terminated: False, truncated: False, info: {}\n",
      "state: [-0.8538827   0.5204655  -0.46331266], action: [-1.8872153], reward: -6.7548835497012725, next_state: [-0.8444824  0.5355833 -0.3560458], terminated: False, truncated: False, info: {}\n",
      "state: [-0.8444824  0.5355833 -0.3560458], action: [-1.8872153], reward: -6.654046185038952, next_state: [-0.83806455  0.545571   -0.23744063], terminated: False, truncated: False, info: {}\n",
      "state: [-0.83806455  0.545571   -0.23744063], action: [-1.8872153], reward: -6.585974004263544, next_state: [-0.8350143   0.5502283  -0.11134463], terminated: False, truncated: False, info: {}\n",
      "state: [-0.8350143   0.5502283  -0.11134463], action: [-1.8872153], reward: -6.5530523777327225, next_state: [-0.83551586  0.5494663   0.01824429], terminated: False, truncated: False, info: {}\n",
      "state: [-0.83551586  0.5494663   0.01824429], action: [-1.8872153], reward: -6.556515363676763, next_state: [-0.83953893  0.5432995   0.14726174], terminated: False, truncated: False, info: {}\n",
      "state: [-0.83953893  0.5432995   0.14726174], action: [-1.8872153], reward: -6.596401948002108, next_state: [-0.84684074  0.5318465   0.2716541 ], terminated: False, truncated: False, info: {}\n",
      "state: [-0.84684074  0.5318465   0.2716541 ], action: [-1.8872153], reward: -6.671537294169276, next_state: [-0.85698456  0.51534206  0.38745672], terminated: False, truncated: False, info: {}\n",
      "state: [-0.85698456  0.51534206  0.38745672], action: [-1.8872153], reward: -6.779540610709465, next_state: [-0.8693738   0.49415508  0.49088097], terminated: False, truncated: False, info: {}\n",
      "state: [-0.8693738   0.49415508  0.49088097], action: [-1.8872153], reward: -6.916865340289228, next_state: [-0.8832996  0.468809   0.578415 ], terminated: False, truncated: False, info: {}\n",
      "state: [-0.8832996  0.468809   0.578415 ], action: [-1.8872153], reward: -7.078880043601523, next_state: [-0.8979994   0.4399967   0.64693946], terminated: False, truncated: False, info: {}\n",
      "state: [-0.8979994   0.4399967   0.64693946], action: [-1.8872153], reward: -7.259998180801991, next_state: [-0.9127207   0.40858412  0.6938547 ], terminated: False, truncated: False, info: {}\n",
      "state: [-0.9127207   0.40858412  0.6938547 ], action: [-1.8872153], reward: -7.4538613370358044, next_state: [-0.9267828  0.3755978  0.7172105], terminated: False, truncated: False, info: {}\n",
      "state: [-0.9267828  0.3755978  0.7172105], action: [-1.8872153], reward: -7.653573735036785, next_state: [-0.9396295   0.34219354  0.7158265 ], terminated: False, truncated: False, info: {}\n",
      "state: [-0.9396295   0.34219354  0.7158265 ], action: [-1.8872153], reward: -7.851977660897219, next_state: [-0.95086426  0.30960816  0.6893894 ], terminated: False, truncated: False, info: {}\n",
      "state: [-0.95086426  0.30960816  0.6893894 ], action: [-1.8872153], reward: -8.041951935648596, next_state: [-0.9602625   0.27909857  0.63851327], terminated: False, truncated: False, info: {}\n",
      "state: [-0.9602625   0.27909857  0.63851327], action: [-1.8872153], reward: -8.216710996031765, next_state: [-0.9677597   0.25187528  0.5647549 ], terminated: False, truncated: False, info: {}\n",
      "state: [-0.9677597   0.25187528  0.5647549 ], action: [-1.8872153], reward: -8.370081849942299, next_state: [-0.97341764  0.22903728  0.47057906], terminated: False, truncated: True, info: {}\n",
      "Experience(state=array([-0.8693738 ,  0.49415508,  0.49088097], dtype=float32), action=array([-1.8872153], dtype=float32), reward=-6.916865340289228, next_state=array([-0.8832996,  0.468809 ,  0.578415 ], dtype=float32), terminated=False, truncated=False)\n",
      "Experience(state=array([-0.8832996,  0.468809 ,  0.578415 ], dtype=float32), action=array([-1.8872153], dtype=float32), reward=-7.078880043601523, next_state=array([-0.8979994 ,  0.4399967 ,  0.64693946], dtype=float32), terminated=False, truncated=False)\n",
      "Experience(state=array([-0.8979994 ,  0.4399967 ,  0.64693946], dtype=float32), action=array([-1.8872153], dtype=float32), reward=-7.259998180801991, next_state=array([-0.9127207 ,  0.40858412,  0.6938547 ], dtype=float32), terminated=False, truncated=False)\n",
      "Experience(state=array([-0.9127207 ,  0.40858412,  0.6938547 ], dtype=float32), action=array([-1.8872153], dtype=float32), reward=-7.4538613370358044, next_state=array([-0.9267828,  0.3755978,  0.7172105], dtype=float32), terminated=False, truncated=False)\n",
      "Experience(state=array([-0.9267828,  0.3755978,  0.7172105], dtype=float32), action=array([-1.8872153], dtype=float32), reward=-7.653573735036785, next_state=array([-0.9396295 ,  0.34219354,  0.7158265 ], dtype=float32), terminated=False, truncated=False)\n",
      "Experience(state=array([-0.9396295 ,  0.34219354,  0.7158265 ], dtype=float32), action=array([-1.8872153], dtype=float32), reward=-7.851977660897219, next_state=array([-0.95086426,  0.30960816,  0.6893894 ], dtype=float32), terminated=False, truncated=False)\n",
      "Experience(state=array([-0.95086426,  0.30960816,  0.6893894 ], dtype=float32), action=array([-1.8872153], dtype=float32), reward=-8.041951935648596, next_state=array([-0.9602625 ,  0.27909857,  0.63851327], dtype=float32), terminated=False, truncated=False)\n",
      "Experience(state=array([-0.9602625 ,  0.27909857,  0.63851327], dtype=float32), action=array([-1.8872153], dtype=float32), reward=-8.216710996031765, next_state=array([-0.9677597 ,  0.25187528,  0.5647549 ], dtype=float32), terminated=False, truncated=False)\n",
      "Experience(state=array([-0.9677597 ,  0.25187528,  0.5647549 ], dtype=float32), action=array([-1.8872153], dtype=float32), reward=-8.370081849942299, next_state=array([-0.97341764,  0.22903728,  0.47057906], dtype=float32), terminated=False, truncated=True)\n",
      "Experience(state=array([-0.9677597 ,  0.25187528,  0.5647549 ], dtype=float32), action=array([-1.8872153], dtype=float32), reward=-8.370081849942299, next_state=array([-0.97341764,  0.22903728,  0.47057906], dtype=float32), terminated=False, truncated=True)\n"
     ]
    }
   ],
   "source": [
    "from utils.buffers import SimpleBuffer\n",
    "from algos.CrossQ import CrossQSAC_Agent\n",
    "\n",
    "import gymnasium as gym\n",
    "\n",
    "my_buffer = SimpleBuffer(10, 2, gamma=0.99, n_steps=1)\n",
    "my_env = gym.make(\"Pendulum-v1\")\n",
    "my_agent = CrossQSAC_Agent(my_env, replay_buffer=my_buffer, use_wandb=False)\n",
    "my_agent._do_random_actions(1)\n",
    "print(my_buffer)"
   ]
  },
  {
   "cell_type": "code",
   "execution_count": 12,
   "metadata": {},
   "outputs": [],
   "source": [
    "samples = my_buffer.sample(3)"
   ]
  },
  {
   "cell_type": "code",
   "execution_count": 13,
   "metadata": {},
   "outputs": [
    {
     "data": {
      "text/plain": [
       "array([[-0.9396295 ,  0.34219354,  0.7158265 ],\n",
       "       [-0.9602625 ,  0.27909857,  0.63851327],\n",
       "       [-0.8832996 ,  0.468809  ,  0.578415  ]], dtype=float32)"
      ]
     },
     "execution_count": 13,
     "metadata": {},
     "output_type": "execute_result"
    }
   ],
   "source": [
    "samples[0]"
   ]
  },
  {
   "cell_type": "code",
   "execution_count": 14,
   "metadata": {},
   "outputs": [
    {
     "data": {
      "text/plain": [
       "array([[-1.8872153],\n",
       "       [-1.8872153],\n",
       "       [-1.8872153]], dtype=float32)"
      ]
     },
     "execution_count": 14,
     "metadata": {},
     "output_type": "execute_result"
    }
   ],
   "source": [
    "samples[1]"
   ]
  },
  {
   "cell_type": "code",
   "execution_count": 15,
   "metadata": {},
   "outputs": [
    {
     "data": {
      "text/plain": [
       "array([-7.85197766, -8.216711  , -7.07888004])"
      ]
     },
     "execution_count": 15,
     "metadata": {},
     "output_type": "execute_result"
    }
   ],
   "source": [
    "samples[2]"
   ]
  },
  {
   "cell_type": "code",
   "execution_count": 16,
   "metadata": {},
   "outputs": [
    {
     "data": {
      "text/plain": [
       "array([[-0.95086426,  0.30960816,  0.6893894 ],\n",
       "       [-0.9677597 ,  0.25187528,  0.5647549 ],\n",
       "       [-0.8979994 ,  0.4399967 ,  0.64693946]], dtype=float32)"
      ]
     },
     "execution_count": 16,
     "metadata": {},
     "output_type": "execute_result"
    }
   ],
   "source": [
    "samples[3]"
   ]
  },
  {
   "cell_type": "code",
   "execution_count": 17,
   "metadata": {},
   "outputs": [
    {
     "data": {
      "text/plain": [
       "array([False, False, False])"
      ]
     },
     "execution_count": 17,
     "metadata": {},
     "output_type": "execute_result"
    }
   ],
   "source": [
    "samples[4]"
   ]
  },
  {
   "cell_type": "code",
   "execution_count": 18,
   "metadata": {},
   "outputs": [
    {
     "data": {
      "text/plain": [
       "array([False, False, False])"
      ]
     },
     "execution_count": 18,
     "metadata": {},
     "output_type": "execute_result"
    }
   ],
   "source": [
    "samples[5]"
   ]
  },
  {
   "cell_type": "code",
   "execution_count": null,
   "metadata": {},
   "outputs": [
    {
     "data": {
      "text/plain": [
       "array([[-1.8872153],\n",
       "       [-1.8872153],\n",
       "       [-1.8872153]], dtype=float32)"
      ]
     },
     "execution_count": 10,
     "metadata": {},
     "output_type": "execute_result"
    }
   ],
   "source": [
    "import numpy as np\n",
    "np.array(my_buffer.sample(3)[2])"
   ]
  }
 ],
 "metadata": {
  "kernelspec": {
   "display_name": "rl",
   "language": "python",
   "name": "python3"
  },
  "language_info": {
   "codemirror_mode": {
    "name": "ipython",
    "version": 3
   },
   "file_extension": ".py",
   "mimetype": "text/x-python",
   "name": "python",
   "nbconvert_exporter": "python",
   "pygments_lexer": "ipython3",
   "version": "3.10.16"
  }
 },
 "nbformat": 4,
 "nbformat_minor": 2
}
